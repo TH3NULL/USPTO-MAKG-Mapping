{
 "cells": [
  {
   "cell_type": "code",
   "execution_count": 37,
   "metadata": {},
   "outputs": [],
   "source": [
    "import pandas as pd\n",
    "import pyodbc\n",
    "import urllib\n",
    "\n",
    "# Installing the FuzzyWuzzy Algo\n",
    "from fuzzywuzzy import fuzz\n",
    "from fuzzywuzzy import process\n",
    "from sqlalchemy import event\n",
    "from sqlalchemy import create_engine\n",
    "\n",
    "# Specify the connection details\n",
    "server = '172.16.3.22'\n",
    "database = 'patentview_trial'\n",
    "username = 'Tipu_Thakur'\n",
    "password = 'IDSL2Sb!gt%2'\n",
    "\n",
    "# Create a connection string\n",
    "connection_string = f\"Driver={{SQL Server}};Server={server};Database={database};UID={username};PWD={password};\"\n",
    "\n",
    "# Establish the database connection\n",
    "connection = pyodbc.connect(connection_string)\n",
    "\n"
   ]
  },
  {
   "cell_type": "code",
   "execution_count": 38,
   "metadata": {},
   "outputs": [
    {
     "data": {
      "text/plain": [
       "<pyodbc.Cursor at 0x14f2f0f94b0>"
      ]
     },
     "execution_count": 38,
     "metadata": {},
     "output_type": "execute_result"
    }
   ],
   "source": [
    "# Create a cursor object\n",
    "cursor = connection.cursor()\n",
    "\n",
    "# Execute the first SQL query\n",
    "query1 = \"\"\"\n",
    "SELECT REC_ID,paper_id,patent_id,dcterms_creator,inventor_id,Author_Name_Corrected,Inventor_Name_Corrected,CORRECTED_NAME_DISTANCE,ORIGINAL_NAME_DISTANCE\n",
    "FROM [dbo].DERV_PAPER_PATENT_LINKAGE_DISTINCT\n",
    "\"\"\"\n",
    "\n",
    "cursor.execute(query1)\n"
   ]
  },
  {
   "cell_type": "code",
   "execution_count": 5,
   "metadata": {},
   "outputs": [],
   "source": [
    "\n",
    "# Fetch the first query results\n",
    "results1 = cursor.fetchall()\n",
    "\n",
    "# Get the column names from the cursor description\n",
    "columns1 = [column[0] for column in cursor.description]\n",
    "\n",
    "# Convert the first query results to a DataFrame\n",
    "df1 = pd.DataFrame.from_records(results1, columns=columns1)\n"
   ]
  },
  {
   "cell_type": "code",
   "execution_count": 6,
   "metadata": {},
   "outputs": [],
   "source": [
    "# Define a fuzzy match function based on thresholds\n",
    "\n",
    "def fuzzy_match(string1, string2, threshold):\n",
    "    similarity_score = fuzz.ratio(string1, string2)\n",
    "    if similarity_score >= threshold:\n",
    "        return similarity_score\n",
    "    else:\n",
    "        return 0"
   ]
  },
  {
   "cell_type": "code",
   "execution_count": 9,
   "metadata": {},
   "outputs": [],
   "source": [
    "df1['similarity_score_50'] = df1.apply(lambda x: fuzzy_match(x['Author_Name_Corrected'], x['Inventor_Name_Corrected'], 50), axis=1)\n",
    "df1['similarity_score_60'] = df1.apply(lambda x: fuzzy_match(x['Author_Name_Corrected'], x['Inventor_Name_Corrected'], 60), axis=1)\n",
    "df1['similarity_score_70'] = df1.apply(lambda x: fuzzy_match(x['Author_Name_Corrected'], x['Inventor_Name_Corrected'], 70), axis=1)\n",
    "df1['similarity_score_80'] = df1.apply(lambda x: fuzzy_match(x['Author_Name_Corrected'], x['Inventor_Name_Corrected'], 80), axis=1)\n",
    "df1['similarity_score_90'] = df1.apply(lambda x: fuzzy_match(x['Author_Name_Corrected'], x['Inventor_Name_Corrected'], 90), axis=1)\n",
    "df1['similarity_score_95'] = df1.apply(lambda x: fuzzy_match(x['Author_Name_Corrected'], x['Inventor_Name_Corrected'], 95), axis=1)"
   ]
  },
  {
   "cell_type": "code",
   "execution_count": 12,
   "metadata": {},
   "outputs": [],
   "source": [
    "# Define a Jaccard Token Similarity Function\n",
    "def token_jaccard_similarity(string1, string2):\n",
    "    set1 = set(string1.split())\n",
    "    set2 = set(string2.split())\n",
    "    intersection = set1.intersection(set2)\n",
    "    union = set1.union(set2)\n",
    "    jaccard_similarity = len(intersection) / len(union)\n",
    "    return jaccard_similarity"
   ]
  },
  {
   "cell_type": "code",
   "execution_count": 13,
   "metadata": {},
   "outputs": [],
   "source": [
    "df1['token_jaccard_similarity'] = df1.apply(lambda x: token_jaccard_similarity(x['Author_Name_Corrected'], x['Inventor_Name_Corrected']), axis=1)"
   ]
  },
  {
   "cell_type": "code",
   "execution_count": 18,
   "metadata": {},
   "outputs": [],
   "source": [
    "# Export the DataFrame to a file with a delimiter\n",
    "df1.to_csv('E:\\Sagar\\EMAKG\\Paper_Patent_Linkage\\Scoring.csv', sep='|', index=False)"
   ]
  },
  {
   "cell_type": "code",
   "execution_count": 4,
   "metadata": {},
   "outputs": [],
   "source": [
    "# Load the DataFrame from File\n",
    "df1 = pd.read_csv('E:\\Sagar\\EMAKG\\Paper_Patent_Linkage\\Scoring.csv', sep='|')"
   ]
  },
  {
   "cell_type": "code",
   "execution_count": 54,
   "metadata": {},
   "outputs": [
    {
     "data": {
      "text/html": [
       "<div>\n",
       "<style scoped>\n",
       "    .dataframe tbody tr th:only-of-type {\n",
       "        vertical-align: middle;\n",
       "    }\n",
       "\n",
       "    .dataframe tbody tr th {\n",
       "        vertical-align: top;\n",
       "    }\n",
       "\n",
       "    .dataframe thead th {\n",
       "        text-align: right;\n",
       "    }\n",
       "</style>\n",
       "<table border=\"1\" class=\"dataframe\">\n",
       "  <thead>\n",
       "    <tr style=\"text-align: right;\">\n",
       "      <th></th>\n",
       "      <th>REC_ID</th>\n",
       "      <th>paper_id</th>\n",
       "      <th>patent_id</th>\n",
       "      <th>dcterms_creator</th>\n",
       "      <th>inventor_id</th>\n",
       "      <th>Author_Name_Corrected</th>\n",
       "      <th>Inventor_Name_Corrected</th>\n",
       "      <th>CORRECTED_NAME_DISTANCE</th>\n",
       "      <th>ORIGINAL_NAME_DISTANCE</th>\n",
       "      <th>similarity_score_50</th>\n",
       "      <th>similarity_score_60</th>\n",
       "      <th>similarity_score_70</th>\n",
       "      <th>similarity_score_80</th>\n",
       "      <th>similarity_score_90</th>\n",
       "      <th>similarity_score_95</th>\n",
       "      <th>token_jaccard_similarity</th>\n",
       "    </tr>\n",
       "  </thead>\n",
       "  <tbody>\n",
       "    <tr>\n",
       "      <th>0</th>\n",
       "      <td>182</td>\n",
       "      <td>3034306036</td>\n",
       "      <td>7183352</td>\n",
       "      <td>1970217858</td>\n",
       "      <td>fl:ra_ln:pires-1</td>\n",
       "      <td>ROBERT REYER</td>\n",
       "      <td>RAUL PIRES</td>\n",
       "      <td>9</td>\n",
       "      <td>9</td>\n",
       "      <td>0</td>\n",
       "      <td>0</td>\n",
       "      <td>0</td>\n",
       "      <td>0</td>\n",
       "      <td>0</td>\n",
       "      <td>0</td>\n",
       "      <td>0.000000</td>\n",
       "    </tr>\n",
       "    <tr>\n",
       "      <th>1</th>\n",
       "      <td>288</td>\n",
       "      <td>3033631694</td>\n",
       "      <td>10651815</td>\n",
       "      <td>2293872643</td>\n",
       "      <td>fl:we_ln:huang-150</td>\n",
       "      <td>WEI CHUNG HSU</td>\n",
       "      <td>WEI HUANG</td>\n",
       "      <td>6</td>\n",
       "      <td>7</td>\n",
       "      <td>73</td>\n",
       "      <td>73</td>\n",
       "      <td>73</td>\n",
       "      <td>0</td>\n",
       "      <td>0</td>\n",
       "      <td>0</td>\n",
       "      <td>0.250000</td>\n",
       "    </tr>\n",
       "    <tr>\n",
       "      <th>2</th>\n",
       "      <td>362</td>\n",
       "      <td>3033346716</td>\n",
       "      <td>5688795</td>\n",
       "      <td>2226900775</td>\n",
       "      <td>fl:da_ln:clarke-4</td>\n",
       "      <td>DAVID J MORGANS</td>\n",
       "      <td>DAVID E CLARKE</td>\n",
       "      <td>8</td>\n",
       "      <td>8</td>\n",
       "      <td>55</td>\n",
       "      <td>0</td>\n",
       "      <td>0</td>\n",
       "      <td>0</td>\n",
       "      <td>0</td>\n",
       "      <td>0</td>\n",
       "      <td>0.200000</td>\n",
       "    </tr>\n",
       "    <tr>\n",
       "      <th>3</th>\n",
       "      <td>465</td>\n",
       "      <td>3031618475</td>\n",
       "      <td>5660813</td>\n",
       "      <td>3028934885</td>\n",
       "      <td>fl:ag_ln:fogo-1</td>\n",
       "      <td>FOGO AGNES</td>\n",
       "      <td>AGNES FOGO</td>\n",
       "      <td>10</td>\n",
       "      <td>10</td>\n",
       "      <td>50</td>\n",
       "      <td>0</td>\n",
       "      <td>0</td>\n",
       "      <td>0</td>\n",
       "      <td>0</td>\n",
       "      <td>0</td>\n",
       "      <td>1.000000</td>\n",
       "    </tr>\n",
       "    <tr>\n",
       "      <th>4</th>\n",
       "      <td>517</td>\n",
       "      <td>3031365499</td>\n",
       "      <td>7022684</td>\n",
       "      <td>2225223891</td>\n",
       "      <td>fl:mi_ln:pacey-1</td>\n",
       "      <td>MICHAEL STEPHEN PACEY</td>\n",
       "      <td>MICHAEL PACEY</td>\n",
       "      <td>8</td>\n",
       "      <td>8</td>\n",
       "      <td>76</td>\n",
       "      <td>76</td>\n",
       "      <td>76</td>\n",
       "      <td>0</td>\n",
       "      <td>0</td>\n",
       "      <td>0</td>\n",
       "      <td>0.666667</td>\n",
       "    </tr>\n",
       "  </tbody>\n",
       "</table>\n",
       "</div>"
      ],
      "text/plain": [
       "   REC_ID    paper_id  patent_id  dcterms_creator         inventor_id  \\\n",
       "0     182  3034306036    7183352       1970217858    fl:ra_ln:pires-1   \n",
       "1     288  3033631694   10651815       2293872643  fl:we_ln:huang-150   \n",
       "2     362  3033346716    5688795       2226900775   fl:da_ln:clarke-4   \n",
       "3     465  3031618475    5660813       3028934885     fl:ag_ln:fogo-1   \n",
       "4     517  3031365499    7022684       2225223891    fl:mi_ln:pacey-1   \n",
       "\n",
       "   Author_Name_Corrected Inventor_Name_Corrected  CORRECTED_NAME_DISTANCE  \\\n",
       "0           ROBERT REYER              RAUL PIRES                        9   \n",
       "1          WEI CHUNG HSU               WEI HUANG                        6   \n",
       "2        DAVID J MORGANS          DAVID E CLARKE                        8   \n",
       "3             FOGO AGNES              AGNES FOGO                       10   \n",
       "4  MICHAEL STEPHEN PACEY           MICHAEL PACEY                        8   \n",
       "\n",
       "   ORIGINAL_NAME_DISTANCE  similarity_score_50  similarity_score_60  \\\n",
       "0                       9                    0                    0   \n",
       "1                       7                   73                   73   \n",
       "2                       8                   55                    0   \n",
       "3                      10                   50                    0   \n",
       "4                       8                   76                   76   \n",
       "\n",
       "   similarity_score_70  similarity_score_80  similarity_score_90  \\\n",
       "0                    0                    0                    0   \n",
       "1                   73                    0                    0   \n",
       "2                    0                    0                    0   \n",
       "3                    0                    0                    0   \n",
       "4                   76                    0                    0   \n",
       "\n",
       "   similarity_score_95  token_jaccard_similarity  \n",
       "0                    0                  0.000000  \n",
       "1                    0                  0.250000  \n",
       "2                    0                  0.200000  \n",
       "3                    0                  1.000000  \n",
       "4                    0                  0.666667  "
      ]
     },
     "execution_count": 54,
     "metadata": {},
     "output_type": "execute_result"
    }
   ],
   "source": [
    "df1.head()"
   ]
  },
  {
   "cell_type": "code",
   "execution_count": 59,
   "metadata": {},
   "outputs": [
    {
     "data": {
      "text/plain": [
       "-1"
      ]
     },
     "execution_count": 59,
     "metadata": {},
     "output_type": "execute_result"
    }
   ],
   "source": [
    "# Loading the File to SQL Table\n",
    "\n",
    "params = 'DRIVER='+'ODBC Driver 17 for SQL Server' + ';SERVER='+server + ';PORT=1433;DATABASE=' + database + ';UID=' + username + ';PWD=' + password\n",
    "cnxn = pyodbc.connect(params)\n",
    "# Create a cursor object\n",
    "insert_cursor = cnxn.cursor()\n",
    "\n",
    "db_params = urllib.parse.quote_plus(params)\n",
    "\n",
    "engine = create_engine(\"mssql+pyodbc:///?odbc_connect={}\".format(db_params))\n",
    "\n",
    "df1.to_sql(\"DERV_PAPER_PATENT_LINKAGE_SIMILARITY\", engine, if_exists='append', index=False, schema=\"dbo\")\n"
   ]
  }
 ],
 "metadata": {
  "kernelspec": {
   "display_name": "base",
   "language": "python",
   "name": "python3"
  },
  "language_info": {
   "codemirror_mode": {
    "name": "ipython",
    "version": 3
   },
   "file_extension": ".py",
   "mimetype": "text/x-python",
   "name": "python",
   "nbconvert_exporter": "python",
   "pygments_lexer": "ipython3",
   "version": "3.9.12"
  },
  "orig_nbformat": 4
 },
 "nbformat": 4,
 "nbformat_minor": 2
}
