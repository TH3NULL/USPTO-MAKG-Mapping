{
 "cells": [
  {
   "cell_type": "code",
   "execution_count": 3,
   "metadata": {},
   "outputs": [],
   "source": [
    "import pandas as pd\n",
    "import pyodbc\n",
    "import urllib\n",
    "\n",
    "\n",
    "# Specify the connection details\n",
    "server = '172.16.3.22'\n",
    "database = 'patentview_trial'\n",
    "username = 'Tipu_Thakur'\n",
    "password = 'IDSL2Sb!gt%2'\n",
    "\n",
    "# Create a connection string\n",
    "connection_string = f\"Driver={{SQL Server}};Server={server};Database={database};UID={username};PWD={password};\"\n",
    "\n",
    "# Establish the database connection\n",
    "connection = pyodbc.connect(connection_string)\n",
    "\n"
   ]
  },
  {
   "cell_type": "code",
   "execution_count": 4,
   "metadata": {},
   "outputs": [
    {
     "data": {
      "text/plain": [
       "<pyodbc.Cursor at 0x245ffd495b0>"
      ]
     },
     "execution_count": 4,
     "metadata": {},
     "output_type": "execute_result"
    }
   ],
   "source": [
    "# Create a cursor object\n",
    "cursor = connection.cursor()\n",
    "\n",
    "# Execute the first SQL query\n",
    "query1 = \"\"\"\n",
    "SELECT distinct dcterms_creator as Author_Id, Author_Name, Inventor_id , Inventor_Name \n",
    "FROM [dbo].DERV_FINAL_MAPPING\n",
    "\"\"\"\n",
    "\n",
    "cursor.execute(query1)\n"
   ]
  },
  {
   "cell_type": "code",
   "execution_count": 5,
   "metadata": {},
   "outputs": [],
   "source": [
    "\n",
    "# Fetch the first query results\n",
    "results1 = cursor.fetchall()\n",
    "\n",
    "# Get the column names from the cursor description\n",
    "columns1 = [column[0] for column in cursor.description]\n",
    "\n",
    "# Convert the first query results to a DataFrame\n",
    "df1 = pd.DataFrame.from_records(results1, columns=columns1)\n"
   ]
  },
  {
   "cell_type": "code",
   "execution_count": 6,
   "metadata": {},
   "outputs": [],
   "source": [
    "# Export the DataFrame to a file with a delimiter\n",
    "df1.to_csv('E:\\Tipu\\SQL INTEGRATION\\FINAL_SQLs\\Inventor_Author_Mapping.csv', sep='|', index=False)"
   ]
  }
 ],
 "metadata": {
  "kernelspec": {
   "display_name": "Python 3",
   "language": "python",
   "name": "python3"
  },
  "language_info": {
   "codemirror_mode": {
    "name": "ipython",
    "version": 3
   },
   "file_extension": ".py",
   "mimetype": "text/x-python",
   "name": "python",
   "nbconvert_exporter": "python",
   "pygments_lexer": "ipython3",
   "version": "3.9.12"
  },
  "orig_nbformat": 4
 },
 "nbformat": 4,
 "nbformat_minor": 2
}
