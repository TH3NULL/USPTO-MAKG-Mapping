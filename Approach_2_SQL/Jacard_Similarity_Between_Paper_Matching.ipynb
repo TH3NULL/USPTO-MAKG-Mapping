{
 "cells": [
  {
   "cell_type": "code",
   "execution_count": 1,
   "metadata": {},
   "outputs": [],
   "source": [
    "import pandas as pd\n",
    "import pyodbc\n",
    "import urllib\n",
    "\n",
    "# Installing the SQL Alchemy Algo\n",
    "from sqlalchemy import event\n",
    "from sqlalchemy import create_engine\n",
    "\n",
    "# Specify the connection details\n",
    "server = '172.16.3.22'\n",
    "database = 'patentview_trial'\n",
    "username = 'Tipu_Thakur'\n",
    "password = 'IDSL2Sb!gt%2'\n",
    "\n",
    "# Create a connection string\n",
    "connection_string = f\"Driver={{SQL Server}};Server={server};Database={database};UID={username};PWD={password};\"\n",
    "\n",
    "# Establish the database connection\n",
    "connection = pyodbc.connect(connection_string)\n",
    "\n"
   ]
  },
  {
   "cell_type": "code",
   "execution_count": 2,
   "metadata": {},
   "outputs": [
    {
     "data": {
      "text/plain": [
       "<pyodbc.Cursor at 0x288d068aa30>"
      ]
     },
     "execution_count": 2,
     "metadata": {},
     "output_type": "execute_result"
    }
   ],
   "source": [
    "# Create a cursor object\n",
    "cursor = connection.cursor()\n",
    "\n",
    "# Execute the first SQL query\n",
    "query1 = \"\"\"\n",
    "SELECT REC_ID,USPTO_PATENT_ID,USPTO_PATENT_TITLE,EMAKG_PAPER_ID,EMAKG_PAPER_TITLE,dcterms_creator,Author_Name,inventor_id,Inventor_Name\n",
    "FROM [dbo].DERV_TITLE_MAPPING_IDS\n",
    "\"\"\"\n",
    "\n",
    "cursor.execute(query1)\n"
   ]
  },
  {
   "cell_type": "code",
   "execution_count": 3,
   "metadata": {},
   "outputs": [],
   "source": [
    "\n",
    "# Fetch the first query results\n",
    "results1 = cursor.fetchall()\n",
    "\n",
    "# Get the column names from the cursor description\n",
    "columns1 = [column[0] for column in cursor.description]\n",
    "\n",
    "# Convert the first query results to a DataFrame\n",
    "df1 = pd.DataFrame.from_records(results1, columns=columns1)\n"
   ]
  },
  {
   "cell_type": "code",
   "execution_count": 4,
   "metadata": {},
   "outputs": [],
   "source": [
    "# Define a Jaccard Token Similarity Function\n",
    "def token_jaccard_similarity(string1, string2):\n",
    "    set1 = set(string1.split())\n",
    "    set2 = set(string2.split())\n",
    "    intersection = set1.intersection(set2)\n",
    "    union = set1.union(set2)\n",
    "    jaccard_similarity = len(intersection) / len(union)\n",
    "    return jaccard_similarity"
   ]
  },
  {
   "cell_type": "code",
   "execution_count": 6,
   "metadata": {},
   "outputs": [],
   "source": [
    "df1['token_jaccard_similarity'] = df1.apply(lambda x: token_jaccard_similarity(x['Author_Name'], x['Inventor_Name']), axis=1)"
   ]
  },
  {
   "cell_type": "code",
   "execution_count": 7,
   "metadata": {},
   "outputs": [],
   "source": [
    "# Export the DataFrame to a file with a delimiter\n",
    "df1.to_csv('E:\\Sagar\\EMAKG\\Paper_Patent_Linkage\\Same_Paper_Name_Jaccard_Scoring.csv', sep='|', index=False)"
   ]
  },
  {
   "cell_type": "code",
   "execution_count": 4,
   "metadata": {},
   "outputs": [],
   "source": [
    "# Load the DataFrame from File\n",
    "# df1 = pd.read_csv('E:\\Sagar\\EMAKG\\Paper_Patent_Linkage\\Scoring.csv', sep='|')"
   ]
  },
  {
   "cell_type": "code",
   "execution_count": 8,
   "metadata": {},
   "outputs": [
    {
     "data": {
      "text/html": [
       "<div>\n",
       "<style scoped>\n",
       "    .dataframe tbody tr th:only-of-type {\n",
       "        vertical-align: middle;\n",
       "    }\n",
       "\n",
       "    .dataframe tbody tr th {\n",
       "        vertical-align: top;\n",
       "    }\n",
       "\n",
       "    .dataframe thead th {\n",
       "        text-align: right;\n",
       "    }\n",
       "</style>\n",
       "<table border=\"1\" class=\"dataframe\">\n",
       "  <thead>\n",
       "    <tr style=\"text-align: right;\">\n",
       "      <th></th>\n",
       "      <th>REC_ID</th>\n",
       "      <th>USPTO_PATENT_ID</th>\n",
       "      <th>USPTO_PATENT_TITLE</th>\n",
       "      <th>EMAKG_PAPER_ID</th>\n",
       "      <th>EMAKG_PAPER_TITLE</th>\n",
       "      <th>dcterms_creator</th>\n",
       "      <th>Author_Name</th>\n",
       "      <th>inventor_id</th>\n",
       "      <th>Inventor_Name</th>\n",
       "      <th>token_jaccard_similarity</th>\n",
       "    </tr>\n",
       "  </thead>\n",
       "  <tbody>\n",
       "    <tr>\n",
       "      <th>0</th>\n",
       "      <td>2648107</td>\n",
       "      <td>11185864</td>\n",
       "      <td>SAMPLE PREPARATION DEVICE</td>\n",
       "      <td>2727912123</td>\n",
       "      <td>SAMPLE PREPARATION DEVICE</td>\n",
       "      <td>2728974135</td>\n",
       "      <td>È²Å°”Â·È´Å°”Æ ¼É›·Å¾·Å°”</td>\n",
       "      <td>fl:jo_ln:palmerfelgate-2</td>\n",
       "      <td>JOHN PALMER-FELGATE</td>\n",
       "      <td>0.0</td>\n",
       "    </tr>\n",
       "    <tr>\n",
       "      <th>1</th>\n",
       "      <td>2648108</td>\n",
       "      <td>11185864</td>\n",
       "      <td>SAMPLE PREPARATION DEVICE</td>\n",
       "      <td>2846357695</td>\n",
       "      <td>SAMPLE PREPARATION DEVICE</td>\n",
       "      <td>2864464661</td>\n",
       "      <td>ZHOU JIWEN</td>\n",
       "      <td>fl:da_ln:haworth-2</td>\n",
       "      <td>DANIEL NICHOLAS HAWORTH</td>\n",
       "      <td>0.0</td>\n",
       "    </tr>\n",
       "    <tr>\n",
       "      <th>2</th>\n",
       "      <td>2648109</td>\n",
       "      <td>11185864</td>\n",
       "      <td>SAMPLE PREPARATION DEVICE</td>\n",
       "      <td>2846357695</td>\n",
       "      <td>SAMPLE PREPARATION DEVICE</td>\n",
       "      <td>2864464661</td>\n",
       "      <td>ZHOU JIWEN</td>\n",
       "      <td>fl:jo_ln:palmerfelgate-2</td>\n",
       "      <td>JOHN PALMER-FELGATE</td>\n",
       "      <td>0.0</td>\n",
       "    </tr>\n",
       "    <tr>\n",
       "      <th>3</th>\n",
       "      <td>2648110</td>\n",
       "      <td>11185864</td>\n",
       "      <td>SAMPLE PREPARATION DEVICE</td>\n",
       "      <td>2837446964</td>\n",
       "      <td>SAMPLE PREPARATION DEVICE</td>\n",
       "      <td>2869630602</td>\n",
       "      <td>TAJIMA KATSUNORI</td>\n",
       "      <td>fl:da_ln:haworth-2</td>\n",
       "      <td>DANIEL NICHOLAS HAWORTH</td>\n",
       "      <td>0.0</td>\n",
       "    </tr>\n",
       "    <tr>\n",
       "      <th>4</th>\n",
       "      <td>2648111</td>\n",
       "      <td>11185864</td>\n",
       "      <td>SAMPLE PREPARATION DEVICE</td>\n",
       "      <td>2837446964</td>\n",
       "      <td>SAMPLE PREPARATION DEVICE</td>\n",
       "      <td>2869630602</td>\n",
       "      <td>TAJIMA KATSUNORI</td>\n",
       "      <td>fl:jo_ln:palmerfelgate-2</td>\n",
       "      <td>JOHN PALMER-FELGATE</td>\n",
       "      <td>0.0</td>\n",
       "    </tr>\n",
       "  </tbody>\n",
       "</table>\n",
       "</div>"
      ],
      "text/plain": [
       "    REC_ID USPTO_PATENT_ID         USPTO_PATENT_TITLE  EMAKG_PAPER_ID  \\\n",
       "0  2648107        11185864  SAMPLE PREPARATION DEVICE      2727912123   \n",
       "1  2648108        11185864  SAMPLE PREPARATION DEVICE      2846357695   \n",
       "2  2648109        11185864  SAMPLE PREPARATION DEVICE      2846357695   \n",
       "3  2648110        11185864  SAMPLE PREPARATION DEVICE      2837446964   \n",
       "4  2648111        11185864  SAMPLE PREPARATION DEVICE      2837446964   \n",
       "\n",
       "           EMAKG_PAPER_TITLE  dcterms_creator                 Author_Name  \\\n",
       "0  SAMPLE PREPARATION DEVICE       2728974135  È²Å°”Â·È´Å°”Æ ¼É›·Å¾·Å°”   \n",
       "1  SAMPLE PREPARATION DEVICE       2864464661                  ZHOU JIWEN   \n",
       "2  SAMPLE PREPARATION DEVICE       2864464661                  ZHOU JIWEN   \n",
       "3  SAMPLE PREPARATION DEVICE       2869630602            TAJIMA KATSUNORI   \n",
       "4  SAMPLE PREPARATION DEVICE       2869630602            TAJIMA KATSUNORI   \n",
       "\n",
       "                inventor_id            Inventor_Name  token_jaccard_similarity  \n",
       "0  fl:jo_ln:palmerfelgate-2      JOHN PALMER-FELGATE                       0.0  \n",
       "1        fl:da_ln:haworth-2  DANIEL NICHOLAS HAWORTH                       0.0  \n",
       "2  fl:jo_ln:palmerfelgate-2      JOHN PALMER-FELGATE                       0.0  \n",
       "3        fl:da_ln:haworth-2  DANIEL NICHOLAS HAWORTH                       0.0  \n",
       "4  fl:jo_ln:palmerfelgate-2      JOHN PALMER-FELGATE                       0.0  "
      ]
     },
     "execution_count": 8,
     "metadata": {},
     "output_type": "execute_result"
    }
   ],
   "source": [
    "df1.head()"
   ]
  },
  {
   "cell_type": "code",
   "execution_count": 9,
   "metadata": {},
   "outputs": [
    {
     "data": {
      "text/plain": [
       "-1"
      ]
     },
     "execution_count": 9,
     "metadata": {},
     "output_type": "execute_result"
    }
   ],
   "source": [
    "# Loading the File to SQL Table Post Additional Column Altered in SQL DB\n",
    "\n",
    "params = 'DRIVER='+'ODBC Driver 17 for SQL Server' + ';SERVER='+server + ';PORT=1433;DATABASE=' + database + ';UID=' + username + ';PWD=' + password\n",
    "cnxn = pyodbc.connect(params)\n",
    "# Create a cursor object\n",
    "insert_cursor = cnxn.cursor()\n",
    "\n",
    "db_params = urllib.parse.quote_plus(params)\n",
    "\n",
    "engine = create_engine(\"mssql+pyodbc:///?odbc_connect={}\".format(db_params))\n",
    "\n",
    "df1.to_sql(\"DERV_TITLE_MAPPING_IDS\", engine, if_exists='append', index=False, schema=\"dbo\")\n"
   ]
  }
 ],
 "metadata": {
  "kernelspec": {
   "display_name": "base",
   "language": "python",
   "name": "python3"
  },
  "language_info": {
   "codemirror_mode": {
    "name": "ipython",
    "version": 3
   },
   "file_extension": ".py",
   "mimetype": "text/x-python",
   "name": "python",
   "nbconvert_exporter": "python",
   "pygments_lexer": "ipython3",
   "version": "3.9.12"
  },
  "orig_nbformat": 4
 },
 "nbformat": 4,
 "nbformat_minor": 2
}
